{
 "cells": [
  {
   "cell_type": "code",
   "execution_count": 1,
   "metadata": {},
   "outputs": [],
   "source": [
    "cardapio = {\n",
    "    'lasanha': 8.00,\n",
    "    'estrogonofe': 11.00,\n",
    "    'refrigerante': 3.00,\n",
    "    'suco': 2.50\n",
    "}"
   ]
  },
  {
   "cell_type": "code",
   "execution_count": 14,
   "metadata": {},
   "outputs": [],
   "source": [
    "def valor_total(cardapio,pedidos):\n",
    "    \n",
    "    valor = 0.0\n",
    "    \n",
    "    for alimento in pedidos:\n",
    "        if type(alimento) is not str:\n",
    "            print('Entrada invalida')\n",
    "            return\n",
    "        \n",
    "        alimento = alimento.lower()\n",
    "        \n",
    "        if alimento not in cardapio:\n",
    "            print('Pedido invalido')\n",
    "            return\n",
    "        \n",
    "        valor += cardapio[alimento]\n",
    "        \n",
    "    print('Valor total:',valor,'R$')"
   ]
  },
  {
   "cell_type": "code",
   "execution_count": 15,
   "metadata": {},
   "outputs": [
    {
     "name": "stdout",
     "output_type": "stream",
     "text": [
      "Valor total: 10.5 R$\n"
     ]
    }
   ],
   "source": [
    "valor_total(cardapio,['suco','lasanha'])"
   ]
  },
  {
   "cell_type": "code",
   "execution_count": null,
   "metadata": {},
   "outputs": [],
   "source": []
  }
 ],
 "metadata": {
  "kernelspec": {
   "display_name": "Python 3",
   "language": "python",
   "name": "python3"
  },
  "language_info": {
   "codemirror_mode": {
    "name": "ipython",
    "version": 3
   },
   "file_extension": ".py",
   "mimetype": "text/x-python",
   "name": "python",
   "nbconvert_exporter": "python",
   "pygments_lexer": "ipython3",
   "version": "3.8.5"
  }
 },
 "nbformat": 4,
 "nbformat_minor": 4
}
