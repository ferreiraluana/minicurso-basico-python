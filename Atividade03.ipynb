{
  "nbformat": 4,
  "nbformat_minor": 0,
  "metadata": {
    "colab": {
      "name": "Atividade03.ipynb",
      "provenance": [],
      "authorship_tag": "ABX9TyOxK6VVztg28TMy7gdF0Bin",
      "include_colab_link": true
    },
    "kernelspec": {
      "name": "python3",
      "display_name": "Python 3"
    },
    "language_info": {
      "name": "python"
    }
  },
  "cells": [
    {
      "cell_type": "markdown",
      "metadata": {
        "id": "view-in-github",
        "colab_type": "text"
      },
      "source": [
        "<a href=\"https://colab.research.google.com/github/ferreiraluana/minicurso-basico-python/blob/main/Atividade03.ipynb\" target=\"_parent\"><img src=\"https://colab.research.google.com/assets/colab-badge.svg\" alt=\"Open In Colab\"/></a>"
      ]
    },
    {
      "cell_type": "code",
      "metadata": {
        "colab": {
          "base_uri": "https://localhost:8080/"
        },
        "id": "JglK1Gb9icEu",
        "outputId": "67d0f37f-cbb3-4756-8be5-1b9aa0c7be86"
      },
      "source": [
        "from google.colab import drive\n",
        "drive.mount('/content/drive')"
      ],
      "execution_count": 1,
      "outputs": [
        {
          "output_type": "stream",
          "text": [
            "Drive already mounted at /content/drive; to attempt to forcibly remount, call drive.mount(\"/content/drive\", force_remount=True).\n"
          ],
          "name": "stdout"
        }
      ]
    },
    {
      "cell_type": "code",
      "metadata": {
        "id": "oZ3sLHjjHD5S"
      },
      "source": [
        "import matplotlib.pyplot as plt"
      ],
      "execution_count": 2,
      "outputs": []
    },
    {
      "cell_type": "code",
      "metadata": {
        "id": "BkNFPpRwdeh3"
      },
      "source": [
        "import math"
      ],
      "execution_count": 3,
      "outputs": []
    },
    {
      "cell_type": "code",
      "metadata": {
        "id": "QoRYOEugmK05"
      },
      "source": [
        "import pandas as pd"
      ],
      "execution_count": 4,
      "outputs": []
    },
    {
      "cell_type": "code",
      "metadata": {
        "id": "dZrTmBeRolYG"
      },
      "source": [
        "import numpy as np"
      ],
      "execution_count": 5,
      "outputs": []
    },
    {
      "cell_type": "code",
      "metadata": {
        "id": "bAaEbc1HmRfs"
      },
      "source": [
        "random_file = pd.read_csv('/content/drive/MyDrive/random/random.csv')\n",
        "random_file.columns = ['random']\n",
        "random_file = random_file.append({'random': np.random.randint(100)}, ignore_index=True)"
      ],
      "execution_count": 15,
      "outputs": []
    },
    {
      "cell_type": "code",
      "metadata": {
        "colab": {
          "base_uri": "https://localhost:8080/",
          "height": 204
        },
        "id": "uhXgmg8gmwuC",
        "outputId": "b99907ea-0051-47e8-e294-704aff4070df"
      },
      "source": [
        "random_file.head()"
      ],
      "execution_count": 7,
      "outputs": [
        {
          "output_type": "execute_result",
          "data": {
            "text/html": [
              "<div>\n",
              "<style scoped>\n",
              "    .dataframe tbody tr th:only-of-type {\n",
              "        vertical-align: middle;\n",
              "    }\n",
              "\n",
              "    .dataframe tbody tr th {\n",
              "        vertical-align: top;\n",
              "    }\n",
              "\n",
              "    .dataframe thead th {\n",
              "        text-align: right;\n",
              "    }\n",
              "</style>\n",
              "<table border=\"1\" class=\"dataframe\">\n",
              "  <thead>\n",
              "    <tr style=\"text-align: right;\">\n",
              "      <th></th>\n",
              "      <th>random</th>\n",
              "    </tr>\n",
              "  </thead>\n",
              "  <tbody>\n",
              "    <tr>\n",
              "      <th>0</th>\n",
              "      <td>9104.1700</td>\n",
              "    </tr>\n",
              "    <tr>\n",
              "      <th>1</th>\n",
              "      <td>4665.7074</td>\n",
              "    </tr>\n",
              "    <tr>\n",
              "      <th>2</th>\n",
              "      <td>20875.2625</td>\n",
              "    </tr>\n",
              "    <tr>\n",
              "      <th>3</th>\n",
              "      <td>21756.3866</td>\n",
              "    </tr>\n",
              "    <tr>\n",
              "      <th>4</th>\n",
              "      <td>15794.7093</td>\n",
              "    </tr>\n",
              "  </tbody>\n",
              "</table>\n",
              "</div>"
            ],
            "text/plain": [
              "       random\n",
              "0   9104.1700\n",
              "1   4665.7074\n",
              "2  20875.2625\n",
              "3  21756.3866\n",
              "4  15794.7093"
            ]
          },
          "metadata": {
            "tags": []
          },
          "execution_count": 7
        }
      ]
    },
    {
      "cell_type": "code",
      "metadata": {
        "id": "IRDivVq1dpWG"
      },
      "source": [
        "x = [i for i in range(100)]"
      ],
      "execution_count": 8,
      "outputs": []
    },
    {
      "cell_type": "code",
      "metadata": {
        "colab": {
          "base_uri": "https://localhost:8080/"
        },
        "id": "Cbdtvl5BeEvz",
        "outputId": "11f3cab3-af48-4158-db30-eb7c193f30d6"
      },
      "source": [
        "x"
      ],
      "execution_count": 12,
      "outputs": [
        {
          "output_type": "execute_result",
          "data": {
            "text/plain": [
              "[0,\n",
              " 1,\n",
              " 2,\n",
              " 3,\n",
              " 4,\n",
              " 5,\n",
              " 6,\n",
              " 7,\n",
              " 8,\n",
              " 9,\n",
              " 10,\n",
              " 11,\n",
              " 12,\n",
              " 13,\n",
              " 14,\n",
              " 15,\n",
              " 16,\n",
              " 17,\n",
              " 18,\n",
              " 19,\n",
              " 20,\n",
              " 21,\n",
              " 22,\n",
              " 23,\n",
              " 24,\n",
              " 25,\n",
              " 26,\n",
              " 27,\n",
              " 28,\n",
              " 29,\n",
              " 30,\n",
              " 31,\n",
              " 32,\n",
              " 33,\n",
              " 34,\n",
              " 35,\n",
              " 36,\n",
              " 37,\n",
              " 38,\n",
              " 39,\n",
              " 40,\n",
              " 41,\n",
              " 42,\n",
              " 43,\n",
              " 44,\n",
              " 45,\n",
              " 46,\n",
              " 47,\n",
              " 48,\n",
              " 49,\n",
              " 50,\n",
              " 51,\n",
              " 52,\n",
              " 53,\n",
              " 54,\n",
              " 55,\n",
              " 56,\n",
              " 57,\n",
              " 58,\n",
              " 59,\n",
              " 60,\n",
              " 61,\n",
              " 62,\n",
              " 63,\n",
              " 64,\n",
              " 65,\n",
              " 66,\n",
              " 67,\n",
              " 68,\n",
              " 69,\n",
              " 70,\n",
              " 71,\n",
              " 72,\n",
              " 73,\n",
              " 74,\n",
              " 75,\n",
              " 76,\n",
              " 77,\n",
              " 78,\n",
              " 79,\n",
              " 80,\n",
              " 81,\n",
              " 82,\n",
              " 83,\n",
              " 84,\n",
              " 85,\n",
              " 86,\n",
              " 87,\n",
              " 88,\n",
              " 89,\n",
              " 90,\n",
              " 91,\n",
              " 92,\n",
              " 93,\n",
              " 94,\n",
              " 95,\n",
              " 96,\n",
              " 97,\n",
              " 98,\n",
              " 99]"
            ]
          },
          "metadata": {
            "tags": []
          },
          "execution_count": 12
        }
      ]
    },
    {
      "cell_type": "code",
      "metadata": {
        "id": "8or4vdqGd2ea"
      },
      "source": [
        "y = [math.e**(i/10) for i in x]\n",
        "y_linha = [i**math.e for i in x]"
      ],
      "execution_count": 9,
      "outputs": []
    },
    {
      "cell_type": "code",
      "metadata": {
        "id": "P0yVvl8keJqE"
      },
      "source": [
        "y"
      ],
      "execution_count": null,
      "outputs": []
    },
    {
      "cell_type": "code",
      "metadata": {
        "colab": {
          "base_uri": "https://localhost:8080/"
        },
        "id": "-pGSd_SGiOyn",
        "outputId": "b3e3078b-b215-4027-95d5-8023fcbe1d9d"
      },
      "source": [
        "y_linha"
      ],
      "execution_count": 10,
      "outputs": [
        {
          "output_type": "execute_result",
          "data": {
            "text/plain": [
              "[0.0,\n",
              " 1.0,\n",
              " 6.5808859910179205,\n",
              " 19.812990745274643,\n",
              " 43.30806042677592,\n",
              " 79.43235916621322,\n",
              " 130.3870332357456,\n",
              " 198.25066165574742,\n",
              " 285.0054081607272,\n",
              " 392.5546022723387,\n",
              " 522.7352996704365,\n",
              " 677.3276617507046,\n",
              " 858.0622004315062,\n",
              " 1066.6255252581707,\n",
              " 1304.665002000342,\n",
              " 1573.792597035514,\n",
              " 1875.588097929274,\n",
              " 2211.601846315042,\n",
              " 2583.357082803645,\n",
              " 2992.3519785787007,\n",
              " 3440.06141061173,\n",
              " 3927.9385246298984,\n",
              " 4457.416120544136,\n",
              " 5029.907887986878,\n",
              " 5646.8095142417105,\n",
              " 6309.499682710298,\n",
              " 7019.340976833626,\n",
              " 7777.680701836815,\n",
              " 8585.851634635417,\n",
              " 9445.172710606263,\n",
              " 10356.949654598726,\n",
              " 11322.475562476242,\n",
              " 12343.031438582708,\n",
              " 13419.886693785225,\n",
              " 14554.299608124029,\n",
              " 15747.517761578745,\n",
              " 17000.77843601943,\n",
              " 18315.308991036403,\n",
              " 19692.32721602333,\n",
              " 21133.041660613842,\n",
              " 22638.651945336078,\n",
              " 24210.34905414516,\n",
              " 25849.3156103165,\n",
              " 27556.72613702827,\n",
              " 29333.747303826352,\n",
              " 31181.538160046388,\n",
              " 33101.250356163386,\n",
              " 35094.02835394711,\n",
              " 37161.00962621998,\n",
              " 39303.32484694164,\n",
              " 41522.09807228021,\n",
              " 43818.446913272244,\n",
              " 46193.48270062246,\n",
              " 48648.31064214766,\n",
              " 51184.029973328325,\n",
              " 53801.73410139335,\n",
              " 56502.510743330524,\n",
              " 59287.44205818407,\n",
              " 62157.604773973515,\n",
              " 65114.07030954291,\n",
              " 68157.90489162665,\n",
              " 71290.16966739735,\n",
              " 74511.92081274265,\n",
              " 77824.20963649992,\n",
              " 81228.0826808627,\n",
              " 84724.58181815785,\n",
              " 88314.74434417898,\n",
              " 91999.60306825004,\n",
              " 95780.18640018103,\n",
              " 99657.51843426796,\n",
              " 103632.61903047944,\n",
              " 107706.50389296349,\n",
              " 111880.18464599982,\n",
              " 116154.66890751568,\n",
              " 120530.96036027603,\n",
              " 125010.05882085243,\n",
              " 129592.96030646884,\n",
              " 134280.65709981747,\n",
              " 139074.13781193172,\n",
              " 143974.38744319917,\n",
              " 148982.3874425928,\n",
              " 154099.115765194,\n",
              " 159325.54692807785,\n",
              " 164662.6520646263,\n",
              " 170111.3989773327,\n",
              " 175672.75218915672,\n",
              " 181347.67299348672,\n",
              " 187137.1195027625,\n",
              " 193042.04669581054,\n",
              " 199063.40646393903,\n",
              " 205202.14765583997,\n",
              " 211459.21612134148,\n",
              " 217835.55475405254,\n",
              " 224332.10353294012,\n",
              " 230949.79956287623,\n",
              " 237689.57711419213,\n",
              " 244552.36766127314,\n",
              " 251539.09992022815,\n",
              " 258650.6998856648,\n",
              " 265888.090866601]"
            ]
          },
          "metadata": {
            "tags": []
          },
          "execution_count": 10
        }
      ]
    },
    {
      "cell_type": "code",
      "metadata": {
        "id": "YWNeHuYoqXgS"
      },
      "source": [
        ""
      ],
      "execution_count": null,
      "outputs": []
    },
    {
      "cell_type": "code",
      "metadata": {
        "colab": {
          "base_uri": "https://localhost:8080/",
          "height": 295
        },
        "id": "x6MqB5joeNiv",
        "outputId": "78b389e2-27f8-4ab1-f685-cce70632a6d5"
      },
      "source": [
        "plt.xlabel(\"x\")\n",
        "plt.ylabel('y(x)')\n",
        "plt.plot(x,y, color='b', label= 'e^(x/10)')\n",
        "plt.plot(x,y_linha, color='m', label= 'x^(e)')\n",
        "plt.scatter(x, random_file['random'], color = 'y', label = 'Random', s = 10)\n",
        "plt.title('Função Exponencial')\n",
        "plt.legend(loc = 'upper right')\n",
        "plt.savefig('/content/drive/MyDrive/random/grafico.pdf')"
      ],
      "execution_count": 21,
      "outputs": [
        {
          "output_type": "display_data",
          "data": {
            "image/png": "[encoded data removed]",
            "text/plain": [
              "<Figure size 432x288 with 1 Axes>"
            ]
          },
          "metadata": {
            "tags": [],
            "needs_background": "light"
          }
        }
      ]
    }
  ]
}