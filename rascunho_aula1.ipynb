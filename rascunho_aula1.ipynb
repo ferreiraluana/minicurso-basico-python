{
  "nbformat": 4,
  "nbformat_minor": 0,
  "metadata": {
    "colab": {
      "name": "rascunho_aula1.ipynb",
      "provenance": [],
      "authorship_tag": "ABX9TyNqNUecNBbFipg1p4tTF7qB",
      "include_colab_link": true
    },
    "kernelspec": {
      "name": "python3",
      "display_name": "Python 3"
    },
    "language_info": {
      "name": "python"
    }
  },
  "cells": [
    {
      "cell_type": "markdown",
      "metadata": {
        "id": "view-in-github",
        "colab_type": "text"
      },
      "source": [
        "<a href=\"https://colab.research.google.com/github/ferreiraluana/minicurso-basico-python/blob/main/rascunho_aula1.ipynb\" target=\"_parent\"><img src=\"https://colab.research.google.com/assets/colab-badge.svg\" alt=\"Open In Colab\"/></a>"
      ]
    },
    {
      "cell_type": "code",
      "metadata": {
        "colab": {
          "base_uri": "https://localhost:8080/"
        },
        "id": "E5wUd4VTitDi",
        "outputId": "78e3daf8-6732-4f60-d488-84f8070ecec3"
      },
      "source": [
        "print('Hello World')"
      ],
      "execution_count": 2,
      "outputs": [
        {
          "output_type": "stream",
          "text": [
            "Hello World\n"
          ],
          "name": "stdout"
        }
      ]
    },
    {
      "cell_type": "code",
      "metadata": {
        "colab": {
          "base_uri": "https://localhost:8080/"
        },
        "id": "3BtZZ6l5kPJr",
        "outputId": "04429623-af0d-4b0a-cbdd-06b9d3f3c1af"
      },
      "source": [
        " x = 2.3\n",
        " y = 3\n",
        " z = \"carro\"\n",
        " print(x**y - x*y + x%y)"
      ],
      "execution_count": 13,
      "outputs": [
        {
          "output_type": "stream",
          "text": [
            "7.566999999999998\n"
          ],
          "name": "stdout"
        }
      ]
    },
    {
      "cell_type": "code",
      "metadata": {
        "colab": {
          "base_uri": "https://localhost:8080/"
        },
        "id": "vV-M0t0Alfff",
        "outputId": "445e088c-1645-4744-e721-b235e040aca9"
      },
      "source": [
        "z = 1.00\n",
        "type(z)"
      ],
      "execution_count": 14,
      "outputs": [
        {
          "output_type": "execute_result",
          "data": {
            "text/plain": [
              "float"
            ]
          },
          "metadata": {
            "tags": []
          },
          "execution_count": 14
        }
      ]
    },
    {
      "cell_type": "code",
      "metadata": {
        "colab": {
          "base_uri": "https://localhost:8080/"
        },
        "id": "wf-Qz6uUmJ9-",
        "outputId": "94245504-b7c3-4283-b16a-b849cbfb15f2"
      },
      "source": [
        "a = False\n",
        "b = True\n",
        "\n",
        "type(a)"
      ],
      "execution_count": 15,
      "outputs": [
        {
          "output_type": "execute_result",
          "data": {
            "text/plain": [
              "bool"
            ]
          },
          "metadata": {
            "tags": []
          },
          "execution_count": 15
        }
      ]
    },
    {
      "cell_type": "code",
      "metadata": {
        "id": "zj7-2KbnmsaB"
      },
      "source": [
        "diabetes = False\n",
        "glicose = 260\n",
        "if glicose > 200:\n",
        "  diabetes = True\n"
      ],
      "execution_count": null,
      "outputs": []
    },
    {
      "cell_type": "code",
      "metadata": {
        "colab": {
          "base_uri": "https://localhost:8080/"
        },
        "id": "6lIJsLbcn_AS",
        "outputId": "44ddcdf2-2bdc-402b-90d2-8fc59b9c90a8"
      },
      "source": [
        "diabetes = False\n",
        "print(\"Digite o valor da glicose:\")\n",
        "glicose = int(input())\n",
        "if glicose > 200:\n",
        "  diabetes = True\n",
        "elif glicose == 200:\n",
        "  # faça qualquer coisa\n",
        "else\n",
        "  # qualquer outra coisa\n",
        "\n",
        "\n",
        "\n",
        "\n",
        "\n",
        "print(\"O paciente é: {}\".format())"
      ],
      "execution_count": 18,
      "outputs": [
        {
          "output_type": "stream",
          "text": [
            "Digite o valor da glicose:\n",
            "250\n",
            "True\n"
          ],
          "name": "stdout"
        }
      ]
    },
    {
      "cell_type": "code",
      "metadata": {
        "colab": {
          "base_uri": "https://localhost:8080/"
        },
        "id": "UGJPVhdnssga",
        "outputId": "85c9ce0d-3a9b-4bb6-f390-874a6ea173b7"
      },
      "source": [
        "classe = [\"ana\", \"maria\", \"joao\",\"jose\", \"gabi\", \"giovanna\"]\n",
        "nota = [10, 9.9, 10, 8, 9, 10]\n",
        "print(max(nota))"
      ],
      "execution_count": 52,
      "outputs": [
        {
          "output_type": "stream",
          "text": [
            "10\n"
          ],
          "name": "stdout"
        }
      ]
    },
    {
      "cell_type": "code",
      "metadata": {
        "id": "Bm8m0phvuCAJ"
      },
      "source": [
        "luana = (\"engenharia de computação\", 6, 2030, \"nasa\")"
      ],
      "execution_count": 47,
      "outputs": []
    },
    {
      "cell_type": "code",
      "metadata": {
        "colab": {
          "base_uri": "https://localhost:8080/"
        },
        "id": "K3ndZlZ3pU9f",
        "outputId": "7cde7b82-8fce-4491-be44-734831b9cda2"
      },
      "source": [
        "# alunos que tiraram 10: d\n",
        "d = 0\n",
        "for i in range(len(classe)):\n",
        "  if nota[i] == 10:\n",
        "    d += 1\n",
        "    print(classe[i])\n",
        "\n",
        "print(\"A qtde de alunos que tiraram 10.0 é: {}\".format(d))\n"
      ],
      "execution_count": 44,
      "outputs": [
        {
          "output_type": "stream",
          "text": [
            "ana\n",
            "joao\n",
            "giovanna\n",
            "A qtde de alunos que tiraram 10.0 é: 3\n"
          ],
          "name": "stdout"
        }
      ]
    },
    {
      "cell_type": "code",
      "metadata": {
        "colab": {
          "base_uri": "https://localhost:8080/"
        },
        "id": "Okprq47-zI1z",
        "outputId": "761104e1-1d01-4064-a6c2-5e457bd67c19"
      },
      "source": [
        "def esporte_perfeito(altura, peso, genero):\n",
        "  if altura > 1.90 and genero == \"homem\":\n",
        "    esporte = \"volei\"\n",
        "  if altura > 1.80 and genero == \"mulher\":\n",
        "    esporte = [\"volei\",\"basquete\",\"natacao\"]\n",
        "  \n",
        "  return esporte\n",
        "\n",
        "print(esporte_perfeito(1.85, 80, \"mulher\"))\n"
      ],
      "execution_count": 50,
      "outputs": [
        {
          "output_type": "stream",
          "text": [
            "['volei', 'basquete', 'natacao']\n"
          ],
          "name": "stdout"
        }
      ]
    },
    {
      "cell_type": "markdown",
      "metadata": {
        "id": "Y2hYlugGpXdr"
      },
      "source": [
        "Condicionais:\n",
        "if -> se\n",
        "elif -> \"else if\" do contrário, caso não\n",
        "else -> se não for"
      ]
    },
    {
      "cell_type": "markdown",
      "metadata": {
        "id": "pDUZHPLUk9Fl"
      },
      "source": [
        "Variáveis\n",
        "2\n",
        "2.3\n",
        "3.1415\n",
        "\"olá\"\n",
        "\"x\"\n",
        "[0,1,2,3,4]\n",
        "[\"maçã\", \"banana\", \"goiaba\"]"
      ]
    }
  ]
}