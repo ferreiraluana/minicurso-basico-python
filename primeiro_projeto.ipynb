{
 "cells": [
  {
   "cell_type": "markdown",
   "metadata": {},
   "source": [
    "# Questão 449 do thehuxley.com\n",
    "\n",
    "* Descrição: Helena é dona de uma pequena cantina que fornece refeições para os universitários. No cardápio de hoje, eles podem escolher entre lasanha (R\\\\$ 8,00) ou estrogonofe (R\\\\$ 11.00) para comer, e entre refrigerante (R\\\\$ 3.00) ou suco (R\\\\$ 2.50) para beber. Escreva um programa que receba como entrada as escolhas de cada cliente e exiba o valor total a ser pago.\n",
    "* Formato de entrada: Dois valores String, sendo o primeiro referente à comida escolhida, e o segundo referente à bebida escolhida.\n",
    "* Dica: os usuários podem digitar suas escolhas combinando Minúsculas e maiúsculas. Seu programa tem que estar preparado para funcionar em todos os casos.\n",
    "* Formato de saída: Um valor real com duas casas decimais"
   ]
  },
  {
   "cell_type": "code",
   "execution_count": 29,
   "metadata": {},
   "outputs": [],
   "source": [
    "def garcom(pedido):\n",
    "    \n",
    "    valor = 0\n",
    "    \n",
    "    for item in pedido:\n",
    "        item = item.lower()\n",
    "        if item == \"lasanha\":\n",
    "            valor += 8.00\n",
    "        elif item  == \"estrogonofe\":\n",
    "            valor += 11.00\n",
    "        elif item == \"refrigerante\":\n",
    "            valor += 3.00\n",
    "        elif item == \"suco\":\n",
    "            valor += 2.50\n",
    "        else:\n",
    "            continue\n",
    "            \n",
    "    return valor\n",
    "            "
   ]
  },
  {
   "cell_type": "code",
   "execution_count": 36,
   "metadata": {},
   "outputs": [],
   "source": [
    "pedido = ['lasanha', 'suco', 'refrigerante', 'refrigerante', 'refrigerante']"
   ]
  },
  {
   "cell_type": "code",
   "execution_count": 37,
   "metadata": {},
   "outputs": [
    {
     "data": {
      "text/plain": [
       "19.5"
      ]
     },
     "execution_count": 37,
     "metadata": {},
     "output_type": "execute_result"
    }
   ],
   "source": [
    "garcom(pedido)"
   ]
  }
 ],
 "metadata": {
  "kernelspec": {
   "display_name": "Python 3",
   "language": "python",
   "name": "python3"
  },
  "language_info": {
   "codemirror_mode": {
    "name": "ipython",
    "version": 3
   },
   "file_extension": ".py",
   "mimetype": "text/x-python",
   "name": "python",
   "nbconvert_exporter": "python",
   "pygments_lexer": "ipython3",
   "version": "3.6.9"
  }
 },
 "nbformat": 4,
 "nbformat_minor": 2
}
